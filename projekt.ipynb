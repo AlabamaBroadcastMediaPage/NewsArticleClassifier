{
 "cells": [
  {
   "cell_type": "code",
   "execution_count": 1,
   "id": "f86de933",
   "metadata": {},
   "outputs": [
    {
     "data": {
      "text/plain": [
       "True"
      ]
     },
     "execution_count": 1,
     "metadata": {},
     "output_type": "execute_result"
    }
   ],
   "source": [
    "import webbrowser\n",
    "\n",
    "f = open('helloworld.html','w')\n",
    "\n",
    "message = \"\"\"<!DOCTYPE html>\n",
    "<html>\n",
    "<head>\n",
    "<title>Page Title</title>\n",
    "<style>\n",
    "h1 {text-align: center;}\n",
    "p {text-align: center;}\n",
    "div {text-align: center;}\n",
    "\n",
    ".column {\n",
    "  float: left;\n",
    "  width: 48%;\n",
    "  padding: 1%;\n",
    "  height: 100%;\n",
    "}\n",
    "\n",
    ".row:after {\n",
    "  content: \"\";\n",
    "  display: table;\n",
    "  clear: both;\n",
    "</style>\n",
    "</head>\n",
    "<body>\n",
    "\n",
    "<h1>Barbitól kapott adatok:</h1>\n",
    "\n",
    "<div class=\"row\">\n",
    "  <div class=\"column\" style=\"background-color:#aaa;\">\n",
    "    <h2>Adatok</h2>\n",
    "    <p>valami</p>\n",
    "  </div>\n",
    "  <div class=\"column\" style=\"background-color:#bbb;\">\n",
    "    <h2>Eredmény</h2>\n",
    "    <p>valami</p>\n",
    "  </div>\n",
    "</div>\n",
    "\n",
    "</body>\n",
    "</html>\n",
    "\"\"\"\n",
    "\n",
    "f.write(message)\n",
    "f.close()\n",
    "\n",
    "webbrowser.open_new_tab('helloworld.html')"
   ]
  },
  {
   "cell_type": "code",
   "execution_count": null,
   "id": "5a9687b2",
   "metadata": {},
   "outputs": [],
   "source": []
  }
 ],
 "metadata": {
  "kernelspec": {
   "display_name": "Python 3 (ipykernel)",
   "language": "python",
   "name": "python3"
  },
  "language_info": {
   "codemirror_mode": {
    "name": "ipython",
    "version": 3
   },
   "file_extension": ".py",
   "mimetype": "text/x-python",
   "name": "python",
   "nbconvert_exporter": "python",
   "pygments_lexer": "ipython3",
   "version": "3.9.7"
  }
 },
 "nbformat": 4,
 "nbformat_minor": 5
}
